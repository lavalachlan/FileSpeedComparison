{
 "cells": [
  {
   "cell_type": "markdown",
   "id": "0f1a7f21",
   "metadata": {},
   "source": [
    "# 🔍 TensorFlow GPU Check"
   ]
  },
  {
   "cell_type": "code",
   "execution_count": null,
   "id": "31462c24",
   "metadata": {},
   "outputs": [],
   "source": [
    "\n",
    "import tensorflow as tf\n",
    "\n",
    "print(\"TensorFlow version:\", tf.__version__)\n",
    "print(\"Num GPUs Available:\", len(tf.config.list_physical_devices('GPU')))\n",
    "print(\"GPU devices:\", tf.config.list_physical_devices('GPU'))\n"
   ]
  },
  {
   "cell_type": "markdown",
   "id": "dacda56c",
   "metadata": {},
   "source": [
    "## 🧪 Optional: Check device execution details"
   ]
  },
  {
   "cell_type": "code",
   "execution_count": null,
   "id": "6712b4b8",
   "metadata": {},
   "outputs": [],
   "source": [
    "\n",
    "from tensorflow.python.client import device_lib\n",
    "print(device_lib.list_local_devices())\n"
   ]
  },
  {
   "cell_type": "code",
   "execution_count": null,
   "id": "70652f53",
   "metadata": {},
   "outputs": [],
   "source": [
    "\n",
    "tf.debugging.set_log_device_placement(True)\n",
    "\n",
    "# Sample tensor operation to see which device is used\n",
    "a = tf.constant([[1.0, 2.0]])\n",
    "b = tf.constant([[3.0], [4.0]])\n",
    "c = tf.matmul(a, b)\n",
    "print(\"Result:\", c.numpy())\n"
   ]
  }
 ],
 "metadata": {
  "kernelspec": {
   "display_name": ".venv",
   "language": "python",
   "name": "python3"
  },
  "language_info": {
   "name": "python",
   "version": "3.11.9"
  }
 },
 "nbformat": 4,
 "nbformat_minor": 5
}
