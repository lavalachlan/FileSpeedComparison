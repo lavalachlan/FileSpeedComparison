{
 "cells": [
  {
   "cell_type": "code",
   "execution_count": 3,
   "id": "6aa01cd0",
   "metadata": {},
   "outputs": [],
   "source": [
    "import pandas as pd\n",
    "import numpy as np\n",
    "data = pd.read_csv('titanic.csv')"
   ]
  },
  {
   "cell_type": "code",
   "execution_count": 4,
   "id": "4c770398",
   "metadata": {},
   "outputs": [
    {
     "data": {
      "application/vnd.microsoft.datawrangler.viewer.v0+json": {
       "columns": [
        {
         "name": "index",
         "rawType": "int64",
         "type": "integer"
        },
        {
         "name": "id",
         "rawType": "int64",
         "type": "integer"
        },
        {
         "name": "'pclass'",
         "rawType": "int64",
         "type": "integer"
        },
        {
         "name": "'survived'",
         "rawType": "int64",
         "type": "integer"
        },
        {
         "name": "'name'",
         "rawType": "object",
         "type": "string"
        },
        {
         "name": "'sex'",
         "rawType": "object",
         "type": "string"
        },
        {
         "name": "'age'",
         "rawType": "object",
         "type": "string"
        },
        {
         "name": "'sibsp'",
         "rawType": "int64",
         "type": "integer"
        },
        {
         "name": "'parch'",
         "rawType": "int64",
         "type": "integer"
        },
        {
         "name": "'ticket'",
         "rawType": "object",
         "type": "string"
        },
        {
         "name": "'fare'",
         "rawType": "object",
         "type": "string"
        },
        {
         "name": "'cabin'",
         "rawType": "object",
         "type": "string"
        },
        {
         "name": "'embarked'",
         "rawType": "object",
         "type": "string"
        },
        {
         "name": "'boat'",
         "rawType": "object",
         "type": "string"
        },
        {
         "name": "'body'",
         "rawType": "object",
         "type": "string"
        },
        {
         "name": "'home.dest'",
         "rawType": "object",
         "type": "string"
        }
       ],
       "ref": "bcda58d4-1e5e-4841-9cdd-25691a553b07",
       "rows": [
        [
         "0",
         "1",
         "1",
         "1",
         "Allen,Miss. Elisabeth Walton",
         "female",
         "29",
         "0",
         "0",
         "24160",
         "211.3375",
         "B5",
         "S",
         "2",
         "?",
         "St Louis,MO"
        ],
        [
         "1",
         "2",
         "1",
         "1",
         "Allison,Master. Hudson Trevor",
         "male",
         "0.9167",
         "1",
         "2",
         "113781",
         "151.55",
         "C22 C26",
         "S",
         "11",
         "?",
         "Montreal,PQ / Chesterville,ON"
        ],
        [
         "2",
         "3",
         "1",
         "0",
         "Allison,Miss. Helen Loraine",
         "female",
         "2",
         "1",
         "2",
         "113781",
         "151.55",
         "C22 C26",
         "S",
         "?",
         "?",
         "Montreal,PQ / Chesterville,ON"
        ],
        [
         "3",
         "4",
         "1",
         "0",
         "Allison,Mr. Hudson Joshua Creighton",
         "male",
         "30",
         "1",
         "2",
         "113781",
         "151.55",
         "C22 C26",
         "S",
         "?",
         "135",
         "Montreal,PQ / Chesterville,ON"
        ],
        [
         "4",
         "5",
         "1",
         "0",
         "Allison,Mrs. Hudson J C (Bessie Waldo Daniels)",
         "female",
         "25",
         "1",
         "2",
         "113781",
         "151.55",
         "C22 C26",
         "S",
         "?",
         "?",
         "Montreal,PQ / Chesterville,ON"
        ]
       ],
       "shape": {
        "columns": 15,
        "rows": 5
       }
      },
      "text/html": [
       "<div>\n",
       "<style scoped>\n",
       "    .dataframe tbody tr th:only-of-type {\n",
       "        vertical-align: middle;\n",
       "    }\n",
       "\n",
       "    .dataframe tbody tr th {\n",
       "        vertical-align: top;\n",
       "    }\n",
       "\n",
       "    .dataframe thead th {\n",
       "        text-align: right;\n",
       "    }\n",
       "</style>\n",
       "<table border=\"1\" class=\"dataframe\">\n",
       "  <thead>\n",
       "    <tr style=\"text-align: right;\">\n",
       "      <th></th>\n",
       "      <th>id</th>\n",
       "      <th>'pclass'</th>\n",
       "      <th>'survived'</th>\n",
       "      <th>'name'</th>\n",
       "      <th>'sex'</th>\n",
       "      <th>'age'</th>\n",
       "      <th>'sibsp'</th>\n",
       "      <th>'parch'</th>\n",
       "      <th>'ticket'</th>\n",
       "      <th>'fare'</th>\n",
       "      <th>'cabin'</th>\n",
       "      <th>'embarked'</th>\n",
       "      <th>'boat'</th>\n",
       "      <th>'body'</th>\n",
       "      <th>'home.dest'</th>\n",
       "    </tr>\n",
       "  </thead>\n",
       "  <tbody>\n",
       "    <tr>\n",
       "      <th>0</th>\n",
       "      <td>1</td>\n",
       "      <td>1</td>\n",
       "      <td>1</td>\n",
       "      <td>Allen,Miss. Elisabeth Walton</td>\n",
       "      <td>female</td>\n",
       "      <td>29</td>\n",
       "      <td>0</td>\n",
       "      <td>0</td>\n",
       "      <td>24160</td>\n",
       "      <td>211.3375</td>\n",
       "      <td>B5</td>\n",
       "      <td>S</td>\n",
       "      <td>2</td>\n",
       "      <td>?</td>\n",
       "      <td>St Louis,MO</td>\n",
       "    </tr>\n",
       "    <tr>\n",
       "      <th>1</th>\n",
       "      <td>2</td>\n",
       "      <td>1</td>\n",
       "      <td>1</td>\n",
       "      <td>Allison,Master. Hudson Trevor</td>\n",
       "      <td>male</td>\n",
       "      <td>0.9167</td>\n",
       "      <td>1</td>\n",
       "      <td>2</td>\n",
       "      <td>113781</td>\n",
       "      <td>151.55</td>\n",
       "      <td>C22 C26</td>\n",
       "      <td>S</td>\n",
       "      <td>11</td>\n",
       "      <td>?</td>\n",
       "      <td>Montreal,PQ / Chesterville,ON</td>\n",
       "    </tr>\n",
       "    <tr>\n",
       "      <th>2</th>\n",
       "      <td>3</td>\n",
       "      <td>1</td>\n",
       "      <td>0</td>\n",
       "      <td>Allison,Miss. Helen Loraine</td>\n",
       "      <td>female</td>\n",
       "      <td>2</td>\n",
       "      <td>1</td>\n",
       "      <td>2</td>\n",
       "      <td>113781</td>\n",
       "      <td>151.55</td>\n",
       "      <td>C22 C26</td>\n",
       "      <td>S</td>\n",
       "      <td>?</td>\n",
       "      <td>?</td>\n",
       "      <td>Montreal,PQ / Chesterville,ON</td>\n",
       "    </tr>\n",
       "    <tr>\n",
       "      <th>3</th>\n",
       "      <td>4</td>\n",
       "      <td>1</td>\n",
       "      <td>0</td>\n",
       "      <td>Allison,Mr. Hudson Joshua Creighton</td>\n",
       "      <td>male</td>\n",
       "      <td>30</td>\n",
       "      <td>1</td>\n",
       "      <td>2</td>\n",
       "      <td>113781</td>\n",
       "      <td>151.55</td>\n",
       "      <td>C22 C26</td>\n",
       "      <td>S</td>\n",
       "      <td>?</td>\n",
       "      <td>135</td>\n",
       "      <td>Montreal,PQ / Chesterville,ON</td>\n",
       "    </tr>\n",
       "    <tr>\n",
       "      <th>4</th>\n",
       "      <td>5</td>\n",
       "      <td>1</td>\n",
       "      <td>0</td>\n",
       "      <td>Allison,Mrs. Hudson J C (Bessie Waldo Daniels)</td>\n",
       "      <td>female</td>\n",
       "      <td>25</td>\n",
       "      <td>1</td>\n",
       "      <td>2</td>\n",
       "      <td>113781</td>\n",
       "      <td>151.55</td>\n",
       "      <td>C22 C26</td>\n",
       "      <td>S</td>\n",
       "      <td>?</td>\n",
       "      <td>?</td>\n",
       "      <td>Montreal,PQ / Chesterville,ON</td>\n",
       "    </tr>\n",
       "  </tbody>\n",
       "</table>\n",
       "</div>"
      ],
      "text/plain": [
       "   id  'pclass'  'survived'                                          'name'  \\\n",
       "0   1         1           1                    Allen,Miss. Elisabeth Walton   \n",
       "1   2         1           1                   Allison,Master. Hudson Trevor   \n",
       "2   3         1           0                     Allison,Miss. Helen Loraine   \n",
       "3   4         1           0             Allison,Mr. Hudson Joshua Creighton   \n",
       "4   5         1           0  Allison,Mrs. Hudson J C (Bessie Waldo Daniels)   \n",
       "\n",
       "    'sex'   'age'  'sibsp'  'parch' 'ticket'    'fare'  'cabin' 'embarked'  \\\n",
       "0  female      29        0        0    24160  211.3375       B5          S   \n",
       "1    male  0.9167        1        2   113781    151.55  C22 C26          S   \n",
       "2  female       2        1        2   113781    151.55  C22 C26          S   \n",
       "3    male      30        1        2   113781    151.55  C22 C26          S   \n",
       "4  female      25        1        2   113781    151.55  C22 C26          S   \n",
       "\n",
       "  'boat' 'body'                    'home.dest'  \n",
       "0      2      ?                    St Louis,MO  \n",
       "1     11      ?  Montreal,PQ / Chesterville,ON  \n",
       "2      ?      ?  Montreal,PQ / Chesterville,ON  \n",
       "3      ?    135  Montreal,PQ / Chesterville,ON  \n",
       "4      ?      ?  Montreal,PQ / Chesterville,ON  "
      ]
     },
     "execution_count": 4,
     "metadata": {},
     "output_type": "execute_result"
    }
   ],
   "source": [
    "data.head()"
   ]
  },
  {
   "cell_type": "code",
   "execution_count": 5,
   "id": "8c5739d7",
   "metadata": {},
   "outputs": [],
   "source": [
    "data.replace('?', np.nan, inplace= True)\n",
    "data.columns = [col.strip(\"'\") for col in data.columns]\n",
    "data = data.astype({\"age\": np.float64, \"fare\": np.float64})"
   ]
  },
  {
   "cell_type": "code",
   "execution_count": 6,
   "id": "d30286ae",
   "metadata": {},
   "outputs": [
    {
     "ename": "ModuleNotFoundError",
     "evalue": "No module named 'seaborn'",
     "output_type": "error",
     "traceback": [
      "\u001b[1;31m---------------------------------------------------------------------------\u001b[0m",
      "\u001b[1;31mModuleNotFoundError\u001b[0m                       Traceback (most recent call last)",
      "Cell \u001b[1;32mIn[6], line 1\u001b[0m\n\u001b[1;32m----> 1\u001b[0m \u001b[38;5;28;01mimport\u001b[39;00m\u001b[38;5;250m \u001b[39m\u001b[38;5;21;01mseaborn\u001b[39;00m\u001b[38;5;250m \u001b[39m\u001b[38;5;28;01mas\u001b[39;00m\u001b[38;5;250m \u001b[39m\u001b[38;5;21;01msns\u001b[39;00m\n\u001b[0;32m      2\u001b[0m \u001b[38;5;28;01mimport\u001b[39;00m\u001b[38;5;250m \u001b[39m\u001b[38;5;21;01mmatplotlib\u001b[39;00m\u001b[38;5;21;01m.\u001b[39;00m\u001b[38;5;21;01mpyplot\u001b[39;00m\u001b[38;5;250m \u001b[39m\u001b[38;5;28;01mas\u001b[39;00m\u001b[38;5;250m \u001b[39m\u001b[38;5;21;01mplt\u001b[39;00m\n\u001b[0;32m      4\u001b[0m fig, axs \u001b[38;5;241m=\u001b[39m plt\u001b[38;5;241m.\u001b[39msubplots(ncols\u001b[38;5;241m=\u001b[39m\u001b[38;5;241m5\u001b[39m, figsize\u001b[38;5;241m=\u001b[39m(\u001b[38;5;241m30\u001b[39m,\u001b[38;5;241m5\u001b[39m))\n",
      "\u001b[1;31mModuleNotFoundError\u001b[0m: No module named 'seaborn'"
     ]
    }
   ],
   "source": [
    "import seaborn as sns\n",
    "import matplotlib.pyplot as plt\n",
    "\n",
    "fig, axs = plt.subplots(ncols=5, figsize=(30,5))\n",
    "sns.violinplot(x=\"survived\", y=\"age\", hue=\"sex\", data=data, ax=axs[0])\n",
    "sns.pointplot(x=\"sibsp\", y=\"survived\", hue=\"sex\", data=data, ax=axs[1])\n",
    "sns.pointplot(x=\"parch\", y=\"survived\", hue=\"sex\", data=data, ax=axs[2])\n",
    "sns.pointplot(x=\"pclass\", y=\"survived\", hue=\"sex\", data=data, ax=axs[3])\n",
    "sns.violinplot(x=\"survived\", y=\"fare\", hue=\"sex\", data=data, ax=axs[4])\n"
   ]
  },
  {
   "cell_type": "code",
   "execution_count": 13,
   "id": "10cfa7d5",
   "metadata": {},
   "outputs": [
    {
     "name": "stderr",
     "output_type": "stream",
     "text": [
      "C:\\Users\\lacatt\\AppData\\Local\\Temp\\ipykernel_25472\\2278333768.py:1: FutureWarning: Downcasting behavior in `replace` is deprecated and will be removed in a future version. To retain the old behavior, explicitly call `result.infer_objects(copy=False)`. To opt-in to the future behavior, set `pd.set_option('future.no_silent_downcasting', True)`\n",
      "  data.replace({'male': 1, 'female': 0}, inplace=True)\n"
     ]
    },
    {
     "data": {
      "application/vnd.microsoft.datawrangler.viewer.v0+json": {
       "columns": [
        {
         "name": "index",
         "rawType": "object",
         "type": "string"
        },
        {
         "name": "sex",
         "rawType": "float64",
         "type": "float"
        },
        {
         "name": "pclass",
         "rawType": "float64",
         "type": "float"
        },
        {
         "name": "age",
         "rawType": "float64",
         "type": "float"
        },
        {
         "name": "relatives",
         "rawType": "float64",
         "type": "float"
        },
        {
         "name": "fare",
         "rawType": "float64",
         "type": "float"
        },
        {
         "name": "survived",
         "rawType": "float64",
         "type": "float"
        }
       ],
       "ref": "f54783c2-f58b-44bb-9c76-dc51d2bf78c2",
       "rows": [
        [
         "sex",
         "1.0",
         "0.14410474358251338",
         "0.06223607057788908",
         "0.27033857540080986",
         "0.1879296506963163",
         "0.5377190151247992"
        ],
        [
         "pclass",
         "0.14410474358251338",
         "1.0",
         "0.411085876846718",
         "0.15886945570855862",
         "0.5652554065836131",
         "0.3199789967887337"
        ],
        [
         "age",
         "0.06223607057788908",
         "0.411085876846718",
         "1.0",
         "0.1272893137962542",
         "0.17873932314646096",
         "0.05395784288672285"
        ],
        [
         "relatives",
         "0.27033857540080986",
         "0.15886945570855862",
         "0.1272893137962542",
         "1.0",
         "0.2598221421876174",
         "0.20675396758875966"
        ],
        [
         "fare",
         "0.1879296506963163",
         "0.5652554065836131",
         "0.17873932314646096",
         "0.2598221421876174",
         "1.0",
         "0.24916364608309266"
        ],
        [
         "survived",
         "0.5377190151247992",
         "0.3199789967887337",
         "0.05395784288672285",
         "0.20675396758875966",
         "0.24916364608309266",
         "1.0"
        ]
       ],
       "shape": {
        "columns": 6,
        "rows": 6
       }
      },
      "text/html": [
       "<div>\n",
       "<style scoped>\n",
       "    .dataframe tbody tr th:only-of-type {\n",
       "        vertical-align: middle;\n",
       "    }\n",
       "\n",
       "    .dataframe tbody tr th {\n",
       "        vertical-align: top;\n",
       "    }\n",
       "\n",
       "    .dataframe thead th {\n",
       "        text-align: right;\n",
       "    }\n",
       "</style>\n",
       "<table border=\"1\" class=\"dataframe\">\n",
       "  <thead>\n",
       "    <tr style=\"text-align: right;\">\n",
       "      <th></th>\n",
       "      <th>sex</th>\n",
       "      <th>pclass</th>\n",
       "      <th>age</th>\n",
       "      <th>relatives</th>\n",
       "      <th>fare</th>\n",
       "      <th>survived</th>\n",
       "    </tr>\n",
       "  </thead>\n",
       "  <tbody>\n",
       "    <tr>\n",
       "      <th>sex</th>\n",
       "      <td>1.000000</td>\n",
       "      <td>0.144105</td>\n",
       "      <td>0.062236</td>\n",
       "      <td>0.270339</td>\n",
       "      <td>0.187930</td>\n",
       "      <td>0.537719</td>\n",
       "    </tr>\n",
       "    <tr>\n",
       "      <th>pclass</th>\n",
       "      <td>0.144105</td>\n",
       "      <td>1.000000</td>\n",
       "      <td>0.411086</td>\n",
       "      <td>0.158869</td>\n",
       "      <td>0.565255</td>\n",
       "      <td>0.319979</td>\n",
       "    </tr>\n",
       "    <tr>\n",
       "      <th>age</th>\n",
       "      <td>0.062236</td>\n",
       "      <td>0.411086</td>\n",
       "      <td>1.000000</td>\n",
       "      <td>0.127289</td>\n",
       "      <td>0.178739</td>\n",
       "      <td>0.053958</td>\n",
       "    </tr>\n",
       "    <tr>\n",
       "      <th>relatives</th>\n",
       "      <td>0.270339</td>\n",
       "      <td>0.158869</td>\n",
       "      <td>0.127289</td>\n",
       "      <td>1.000000</td>\n",
       "      <td>0.259822</td>\n",
       "      <td>0.206754</td>\n",
       "    </tr>\n",
       "    <tr>\n",
       "      <th>fare</th>\n",
       "      <td>0.187930</td>\n",
       "      <td>0.565255</td>\n",
       "      <td>0.178739</td>\n",
       "      <td>0.259822</td>\n",
       "      <td>1.000000</td>\n",
       "      <td>0.249164</td>\n",
       "    </tr>\n",
       "    <tr>\n",
       "      <th>survived</th>\n",
       "      <td>0.537719</td>\n",
       "      <td>0.319979</td>\n",
       "      <td>0.053958</td>\n",
       "      <td>0.206754</td>\n",
       "      <td>0.249164</td>\n",
       "      <td>1.000000</td>\n",
       "    </tr>\n",
       "  </tbody>\n",
       "</table>\n",
       "</div>"
      ],
      "text/plain": [
       "                sex    pclass       age  relatives      fare  survived\n",
       "sex        1.000000  0.144105  0.062236   0.270339  0.187930  0.537719\n",
       "pclass     0.144105  1.000000  0.411086   0.158869  0.565255  0.319979\n",
       "age        0.062236  0.411086  1.000000   0.127289  0.178739  0.053958\n",
       "relatives  0.270339  0.158869  0.127289   1.000000  0.259822  0.206754\n",
       "fare       0.187930  0.565255  0.178739   0.259822  1.000000  0.249164\n",
       "survived   0.537719  0.319979  0.053958   0.206754  0.249164  1.000000"
      ]
     },
     "execution_count": 13,
     "metadata": {},
     "output_type": "execute_result"
    }
   ],
   "source": [
    "data.replace({'male': 1, 'female': 0}, inplace=True)\n",
    "data.corr(numeric_only=True).abs()\n"
   ]
  },
  {
   "cell_type": "code",
   "execution_count": 14,
   "id": "442e94ad",
   "metadata": {},
   "outputs": [
    {
     "ename": "KeyError",
     "evalue": "'sibsp'",
     "output_type": "error",
     "traceback": [
      "\u001b[1;31m---------------------------------------------------------------------------\u001b[0m",
      "\u001b[1;31mKeyError\u001b[0m                                  Traceback (most recent call last)",
      "File \u001b[1;32mc:\\Users\\lacatt\\OneDrive - SAS\\Python_code\\Practice\\tf_test\\.venv\\lib\\site-packages\\pandas\\core\\indexes\\base.py:3812\u001b[0m, in \u001b[0;36mIndex.get_loc\u001b[1;34m(self, key)\u001b[0m\n\u001b[0;32m   3811\u001b[0m \u001b[38;5;28;01mtry\u001b[39;00m:\n\u001b[1;32m-> 3812\u001b[0m     \u001b[38;5;28;01mreturn\u001b[39;00m \u001b[38;5;28;43mself\u001b[39;49m\u001b[38;5;241;43m.\u001b[39;49m\u001b[43m_engine\u001b[49m\u001b[38;5;241;43m.\u001b[39;49m\u001b[43mget_loc\u001b[49m\u001b[43m(\u001b[49m\u001b[43mcasted_key\u001b[49m\u001b[43m)\u001b[49m\n\u001b[0;32m   3813\u001b[0m \u001b[38;5;28;01mexcept\u001b[39;00m \u001b[38;5;167;01mKeyError\u001b[39;00m \u001b[38;5;28;01mas\u001b[39;00m err:\n",
      "File \u001b[1;32mpandas/_libs/index.pyx:167\u001b[0m, in \u001b[0;36mpandas._libs.index.IndexEngine.get_loc\u001b[1;34m()\u001b[0m\n",
      "File \u001b[1;32mpandas/_libs/index.pyx:196\u001b[0m, in \u001b[0;36mpandas._libs.index.IndexEngine.get_loc\u001b[1;34m()\u001b[0m\n",
      "File \u001b[1;32mpandas/_libs/hashtable_class_helper.pxi:7088\u001b[0m, in \u001b[0;36mpandas._libs.hashtable.PyObjectHashTable.get_item\u001b[1;34m()\u001b[0m\n",
      "File \u001b[1;32mpandas/_libs/hashtable_class_helper.pxi:7096\u001b[0m, in \u001b[0;36mpandas._libs.hashtable.PyObjectHashTable.get_item\u001b[1;34m()\u001b[0m\n",
      "\u001b[1;31mKeyError\u001b[0m: 'sibsp'",
      "\nThe above exception was the direct cause of the following exception:\n",
      "\u001b[1;31mKeyError\u001b[0m                                  Traceback (most recent call last)",
      "Cell \u001b[1;32mIn[14], line 1\u001b[0m\n\u001b[1;32m----> 1\u001b[0m data[\u001b[38;5;124m'\u001b[39m\u001b[38;5;124mrelatives\u001b[39m\u001b[38;5;124m'\u001b[39m] \u001b[38;5;241m=\u001b[39m \u001b[43mdata\u001b[49m\u001b[38;5;241;43m.\u001b[39;49m\u001b[43mapply\u001b[49m\u001b[43m \u001b[49m\u001b[43m(\u001b[49m\u001b[38;5;28;43;01mlambda\u001b[39;49;00m\u001b[43m \u001b[49m\u001b[43mrow\u001b[49m\u001b[43m:\u001b[49m\u001b[43m \u001b[49m\u001b[38;5;28;43mint\u001b[39;49m\u001b[43m(\u001b[49m\u001b[43m(\u001b[49m\u001b[43mrow\u001b[49m\u001b[43m[\u001b[49m\u001b[38;5;124;43m'\u001b[39;49m\u001b[38;5;124;43msibsp\u001b[39;49m\u001b[38;5;124;43m'\u001b[39;49m\u001b[43m]\u001b[49m\u001b[43m \u001b[49m\u001b[38;5;241;43m+\u001b[39;49m\u001b[43m \u001b[49m\u001b[43mrow\u001b[49m\u001b[43m[\u001b[49m\u001b[38;5;124;43m'\u001b[39;49m\u001b[38;5;124;43mparch\u001b[39;49m\u001b[38;5;124;43m'\u001b[39;49m\u001b[43m]\u001b[49m\u001b[43m)\u001b[49m\u001b[43m \u001b[49m\u001b[38;5;241;43m>\u001b[39;49m\u001b[43m \u001b[49m\u001b[38;5;241;43m0\u001b[39;49m\u001b[43m)\u001b[49m\u001b[43m,\u001b[49m\u001b[43m \u001b[49m\u001b[43maxis\u001b[49m\u001b[38;5;241;43m=\u001b[39;49m\u001b[38;5;241;43m1\u001b[39;49m\u001b[43m)\u001b[49m\n\u001b[0;32m      2\u001b[0m data\u001b[38;5;241m.\u001b[39mcorr(numeric_only\u001b[38;5;241m=\u001b[39m\u001b[38;5;28;01mTrue\u001b[39;00m)\u001b[38;5;241m.\u001b[39mabs()[[\u001b[38;5;124m\"\u001b[39m\u001b[38;5;124msurvived\u001b[39m\u001b[38;5;124m\"\u001b[39m]]\n",
      "File \u001b[1;32mc:\\Users\\lacatt\\OneDrive - SAS\\Python_code\\Practice\\tf_test\\.venv\\lib\\site-packages\\pandas\\core\\frame.py:10381\u001b[0m, in \u001b[0;36mDataFrame.apply\u001b[1;34m(self, func, axis, raw, result_type, args, by_row, engine, engine_kwargs, **kwargs)\u001b[0m\n\u001b[0;32m  10367\u001b[0m \u001b[38;5;28;01mfrom\u001b[39;00m\u001b[38;5;250m \u001b[39m\u001b[38;5;21;01mpandas\u001b[39;00m\u001b[38;5;21;01m.\u001b[39;00m\u001b[38;5;21;01mcore\u001b[39;00m\u001b[38;5;21;01m.\u001b[39;00m\u001b[38;5;21;01mapply\u001b[39;00m\u001b[38;5;250m \u001b[39m\u001b[38;5;28;01mimport\u001b[39;00m frame_apply\n\u001b[0;32m  10369\u001b[0m op \u001b[38;5;241m=\u001b[39m frame_apply(\n\u001b[0;32m  10370\u001b[0m     \u001b[38;5;28mself\u001b[39m,\n\u001b[0;32m  10371\u001b[0m     func\u001b[38;5;241m=\u001b[39mfunc,\n\u001b[1;32m   (...)\u001b[0m\n\u001b[0;32m  10379\u001b[0m     kwargs\u001b[38;5;241m=\u001b[39mkwargs,\n\u001b[0;32m  10380\u001b[0m )\n\u001b[1;32m> 10381\u001b[0m \u001b[38;5;28;01mreturn\u001b[39;00m \u001b[43mop\u001b[49m\u001b[38;5;241;43m.\u001b[39;49m\u001b[43mapply\u001b[49m\u001b[43m(\u001b[49m\u001b[43m)\u001b[49m\u001b[38;5;241m.\u001b[39m__finalize__(\u001b[38;5;28mself\u001b[39m, method\u001b[38;5;241m=\u001b[39m\u001b[38;5;124m\"\u001b[39m\u001b[38;5;124mapply\u001b[39m\u001b[38;5;124m\"\u001b[39m)\n",
      "File \u001b[1;32mc:\\Users\\lacatt\\OneDrive - SAS\\Python_code\\Practice\\tf_test\\.venv\\lib\\site-packages\\pandas\\core\\apply.py:916\u001b[0m, in \u001b[0;36mFrameApply.apply\u001b[1;34m(self)\u001b[0m\n\u001b[0;32m    913\u001b[0m \u001b[38;5;28;01melif\u001b[39;00m \u001b[38;5;28mself\u001b[39m\u001b[38;5;241m.\u001b[39mraw:\n\u001b[0;32m    914\u001b[0m     \u001b[38;5;28;01mreturn\u001b[39;00m \u001b[38;5;28mself\u001b[39m\u001b[38;5;241m.\u001b[39mapply_raw(engine\u001b[38;5;241m=\u001b[39m\u001b[38;5;28mself\u001b[39m\u001b[38;5;241m.\u001b[39mengine, engine_kwargs\u001b[38;5;241m=\u001b[39m\u001b[38;5;28mself\u001b[39m\u001b[38;5;241m.\u001b[39mengine_kwargs)\n\u001b[1;32m--> 916\u001b[0m \u001b[38;5;28;01mreturn\u001b[39;00m \u001b[38;5;28;43mself\u001b[39;49m\u001b[38;5;241;43m.\u001b[39;49m\u001b[43mapply_standard\u001b[49m\u001b[43m(\u001b[49m\u001b[43m)\u001b[49m\n",
      "File \u001b[1;32mc:\\Users\\lacatt\\OneDrive - SAS\\Python_code\\Practice\\tf_test\\.venv\\lib\\site-packages\\pandas\\core\\apply.py:1063\u001b[0m, in \u001b[0;36mFrameApply.apply_standard\u001b[1;34m(self)\u001b[0m\n\u001b[0;32m   1061\u001b[0m \u001b[38;5;28;01mdef\u001b[39;00m\u001b[38;5;250m \u001b[39m\u001b[38;5;21mapply_standard\u001b[39m(\u001b[38;5;28mself\u001b[39m):\n\u001b[0;32m   1062\u001b[0m     \u001b[38;5;28;01mif\u001b[39;00m \u001b[38;5;28mself\u001b[39m\u001b[38;5;241m.\u001b[39mengine \u001b[38;5;241m==\u001b[39m \u001b[38;5;124m\"\u001b[39m\u001b[38;5;124mpython\u001b[39m\u001b[38;5;124m\"\u001b[39m:\n\u001b[1;32m-> 1063\u001b[0m         results, res_index \u001b[38;5;241m=\u001b[39m \u001b[38;5;28;43mself\u001b[39;49m\u001b[38;5;241;43m.\u001b[39;49m\u001b[43mapply_series_generator\u001b[49m\u001b[43m(\u001b[49m\u001b[43m)\u001b[49m\n\u001b[0;32m   1064\u001b[0m     \u001b[38;5;28;01melse\u001b[39;00m:\n\u001b[0;32m   1065\u001b[0m         results, res_index \u001b[38;5;241m=\u001b[39m \u001b[38;5;28mself\u001b[39m\u001b[38;5;241m.\u001b[39mapply_series_numba()\n",
      "File \u001b[1;32mc:\\Users\\lacatt\\OneDrive - SAS\\Python_code\\Practice\\tf_test\\.venv\\lib\\site-packages\\pandas\\core\\apply.py:1081\u001b[0m, in \u001b[0;36mFrameApply.apply_series_generator\u001b[1;34m(self)\u001b[0m\n\u001b[0;32m   1078\u001b[0m \u001b[38;5;28;01mwith\u001b[39;00m option_context(\u001b[38;5;124m\"\u001b[39m\u001b[38;5;124mmode.chained_assignment\u001b[39m\u001b[38;5;124m\"\u001b[39m, \u001b[38;5;28;01mNone\u001b[39;00m):\n\u001b[0;32m   1079\u001b[0m     \u001b[38;5;28;01mfor\u001b[39;00m i, v \u001b[38;5;129;01min\u001b[39;00m \u001b[38;5;28menumerate\u001b[39m(series_gen):\n\u001b[0;32m   1080\u001b[0m         \u001b[38;5;66;03m# ignore SettingWithCopy here in case the user mutates\u001b[39;00m\n\u001b[1;32m-> 1081\u001b[0m         results[i] \u001b[38;5;241m=\u001b[39m \u001b[38;5;28mself\u001b[39m\u001b[38;5;241m.\u001b[39mfunc(v, \u001b[38;5;241m*\u001b[39m\u001b[38;5;28mself\u001b[39m\u001b[38;5;241m.\u001b[39margs, \u001b[38;5;241m*\u001b[39m\u001b[38;5;241m*\u001b[39m\u001b[38;5;28mself\u001b[39m\u001b[38;5;241m.\u001b[39mkwargs)\n\u001b[0;32m   1082\u001b[0m         \u001b[38;5;28;01mif\u001b[39;00m \u001b[38;5;28misinstance\u001b[39m(results[i], ABCSeries):\n\u001b[0;32m   1083\u001b[0m             \u001b[38;5;66;03m# If we have a view on v, we need to make a copy because\u001b[39;00m\n\u001b[0;32m   1084\u001b[0m             \u001b[38;5;66;03m#  series_generator will swap out the underlying data\u001b[39;00m\n\u001b[0;32m   1085\u001b[0m             results[i] \u001b[38;5;241m=\u001b[39m results[i]\u001b[38;5;241m.\u001b[39mcopy(deep\u001b[38;5;241m=\u001b[39m\u001b[38;5;28;01mFalse\u001b[39;00m)\n",
      "Cell \u001b[1;32mIn[14], line 1\u001b[0m, in \u001b[0;36m<lambda>\u001b[1;34m(row)\u001b[0m\n\u001b[1;32m----> 1\u001b[0m data[\u001b[38;5;124m'\u001b[39m\u001b[38;5;124mrelatives\u001b[39m\u001b[38;5;124m'\u001b[39m] \u001b[38;5;241m=\u001b[39m data\u001b[38;5;241m.\u001b[39mapply (\u001b[38;5;28;01mlambda\u001b[39;00m row: \u001b[38;5;28mint\u001b[39m((\u001b[43mrow\u001b[49m\u001b[43m[\u001b[49m\u001b[38;5;124;43m'\u001b[39;49m\u001b[38;5;124;43msibsp\u001b[39;49m\u001b[38;5;124;43m'\u001b[39;49m\u001b[43m]\u001b[49m \u001b[38;5;241m+\u001b[39m row[\u001b[38;5;124m'\u001b[39m\u001b[38;5;124mparch\u001b[39m\u001b[38;5;124m'\u001b[39m]) \u001b[38;5;241m>\u001b[39m \u001b[38;5;241m0\u001b[39m), axis\u001b[38;5;241m=\u001b[39m\u001b[38;5;241m1\u001b[39m)\n\u001b[0;32m      2\u001b[0m data\u001b[38;5;241m.\u001b[39mcorr(numeric_only\u001b[38;5;241m=\u001b[39m\u001b[38;5;28;01mTrue\u001b[39;00m)\u001b[38;5;241m.\u001b[39mabs()[[\u001b[38;5;124m\"\u001b[39m\u001b[38;5;124msurvived\u001b[39m\u001b[38;5;124m\"\u001b[39m]]\n",
      "File \u001b[1;32mc:\\Users\\lacatt\\OneDrive - SAS\\Python_code\\Practice\\tf_test\\.venv\\lib\\site-packages\\pandas\\core\\series.py:1130\u001b[0m, in \u001b[0;36mSeries.__getitem__\u001b[1;34m(self, key)\u001b[0m\n\u001b[0;32m   1127\u001b[0m     \u001b[38;5;28;01mreturn\u001b[39;00m \u001b[38;5;28mself\u001b[39m\u001b[38;5;241m.\u001b[39m_values[key]\n\u001b[0;32m   1129\u001b[0m \u001b[38;5;28;01melif\u001b[39;00m key_is_scalar:\n\u001b[1;32m-> 1130\u001b[0m     \u001b[38;5;28;01mreturn\u001b[39;00m \u001b[38;5;28;43mself\u001b[39;49m\u001b[38;5;241;43m.\u001b[39;49m\u001b[43m_get_value\u001b[49m\u001b[43m(\u001b[49m\u001b[43mkey\u001b[49m\u001b[43m)\u001b[49m\n\u001b[0;32m   1132\u001b[0m \u001b[38;5;66;03m# Convert generator to list before going through hashable part\u001b[39;00m\n\u001b[0;32m   1133\u001b[0m \u001b[38;5;66;03m# (We will iterate through the generator there to check for slices)\u001b[39;00m\n\u001b[0;32m   1134\u001b[0m \u001b[38;5;28;01mif\u001b[39;00m is_iterator(key):\n",
      "File \u001b[1;32mc:\\Users\\lacatt\\OneDrive - SAS\\Python_code\\Practice\\tf_test\\.venv\\lib\\site-packages\\pandas\\core\\series.py:1246\u001b[0m, in \u001b[0;36mSeries._get_value\u001b[1;34m(self, label, takeable)\u001b[0m\n\u001b[0;32m   1243\u001b[0m     \u001b[38;5;28;01mreturn\u001b[39;00m \u001b[38;5;28mself\u001b[39m\u001b[38;5;241m.\u001b[39m_values[label]\n\u001b[0;32m   1245\u001b[0m \u001b[38;5;66;03m# Similar to Index.get_value, but we do not fall back to positional\u001b[39;00m\n\u001b[1;32m-> 1246\u001b[0m loc \u001b[38;5;241m=\u001b[39m \u001b[38;5;28;43mself\u001b[39;49m\u001b[38;5;241;43m.\u001b[39;49m\u001b[43mindex\u001b[49m\u001b[38;5;241;43m.\u001b[39;49m\u001b[43mget_loc\u001b[49m\u001b[43m(\u001b[49m\u001b[43mlabel\u001b[49m\u001b[43m)\u001b[49m\n\u001b[0;32m   1248\u001b[0m \u001b[38;5;28;01mif\u001b[39;00m is_integer(loc):\n\u001b[0;32m   1249\u001b[0m     \u001b[38;5;28;01mreturn\u001b[39;00m \u001b[38;5;28mself\u001b[39m\u001b[38;5;241m.\u001b[39m_values[loc]\n",
      "File \u001b[1;32mc:\\Users\\lacatt\\OneDrive - SAS\\Python_code\\Practice\\tf_test\\.venv\\lib\\site-packages\\pandas\\core\\indexes\\base.py:3819\u001b[0m, in \u001b[0;36mIndex.get_loc\u001b[1;34m(self, key)\u001b[0m\n\u001b[0;32m   3814\u001b[0m     \u001b[38;5;28;01mif\u001b[39;00m \u001b[38;5;28misinstance\u001b[39m(casted_key, \u001b[38;5;28mslice\u001b[39m) \u001b[38;5;129;01mor\u001b[39;00m (\n\u001b[0;32m   3815\u001b[0m         \u001b[38;5;28misinstance\u001b[39m(casted_key, abc\u001b[38;5;241m.\u001b[39mIterable)\n\u001b[0;32m   3816\u001b[0m         \u001b[38;5;129;01mand\u001b[39;00m \u001b[38;5;28many\u001b[39m(\u001b[38;5;28misinstance\u001b[39m(x, \u001b[38;5;28mslice\u001b[39m) \u001b[38;5;28;01mfor\u001b[39;00m x \u001b[38;5;129;01min\u001b[39;00m casted_key)\n\u001b[0;32m   3817\u001b[0m     ):\n\u001b[0;32m   3818\u001b[0m         \u001b[38;5;28;01mraise\u001b[39;00m InvalidIndexError(key)\n\u001b[1;32m-> 3819\u001b[0m     \u001b[38;5;28;01mraise\u001b[39;00m \u001b[38;5;167;01mKeyError\u001b[39;00m(key) \u001b[38;5;28;01mfrom\u001b[39;00m\u001b[38;5;250m \u001b[39m\u001b[38;5;21;01merr\u001b[39;00m\n\u001b[0;32m   3820\u001b[0m \u001b[38;5;28;01mexcept\u001b[39;00m \u001b[38;5;167;01mTypeError\u001b[39;00m:\n\u001b[0;32m   3821\u001b[0m     \u001b[38;5;66;03m# If we have a listlike key, _check_indexing_error will raise\u001b[39;00m\n\u001b[0;32m   3822\u001b[0m     \u001b[38;5;66;03m#  InvalidIndexError. Otherwise we fall through and re-raise\u001b[39;00m\n\u001b[0;32m   3823\u001b[0m     \u001b[38;5;66;03m#  the TypeError.\u001b[39;00m\n\u001b[0;32m   3824\u001b[0m     \u001b[38;5;28mself\u001b[39m\u001b[38;5;241m.\u001b[39m_check_indexing_error(key)\n",
      "\u001b[1;31mKeyError\u001b[0m: 'sibsp'"
     ]
    }
   ],
   "source": [
    "data['relatives'] = data.apply (lambda row: int((row['sibsp'] + row['parch']) > 0), axis=1)\n",
    "data.corr(numeric_only=True).abs()[[\"survived\"]]\n"
   ]
  },
  {
   "cell_type": "code",
   "execution_count": null,
   "id": "a8679b5e",
   "metadata": {},
   "outputs": [],
   "source": [
    "data = data[['sex', 'pclass','age','relatives','fare','survived']].dropna()\n"
   ]
  },
  {
   "cell_type": "code",
   "execution_count": 15,
   "id": "f32e584a",
   "metadata": {},
   "outputs": [],
   "source": [
    "from sklearn.model_selection import train_test_split\n",
    "x_train, x_test, y_train, y_test = train_test_split(data[['sex','pclass','age','relatives','fare']], data.survived, test_size=0.2, random_state=0)"
   ]
  },
  {
   "cell_type": "code",
   "execution_count": 16,
   "id": "2f362140",
   "metadata": {},
   "outputs": [],
   "source": [
    "from sklearn.preprocessing import StandardScaler\n",
    "sc = StandardScaler()\n",
    "# first, for all 5 variables, find the scaling factors (mean and variance) then apply transform to standardise them. Could use .fit then .transform as well.\n",
    "X_train = sc.fit_transform(x_train)\n",
    "# second, apply the fitted scaling factors to the test data to transform.\n",
    "X_test = sc.transform(x_test)"
   ]
  },
  {
   "cell_type": "code",
   "execution_count": 17,
   "id": "36684d96",
   "metadata": {},
   "outputs": [],
   "source": [
    "# trees, gaussian naive bayes, and logistic regression models\n",
    "from sklearn.naive_bayes import GaussianNB\n",
    "from sklearn.tree import DecisionTreeClassifier\n",
    "from sklearn.ensemble import GradientBoostingClassifier, RandomForestClassifier\n",
    "from sklearn.linear_model import LogisticRegression\n",
    "from sklearn.neural_network import MLPClassifier\n",
    "from sklearn import metrics"
   ]
  },
  {
   "cell_type": "code",
   "execution_count": 18,
   "id": "b0bc5e17",
   "metadata": {},
   "outputs": [
    {
     "name": "stderr",
     "output_type": "stream",
     "text": [
      "c:\\Users\\lacatt\\OneDrive - SAS\\Python_code\\Practice\\tf_test\\.venv\\lib\\site-packages\\sklearn\\neural_network\\_multilayer_perceptron.py:780: ConvergenceWarning: Stochastic Optimizer: Maximum iterations (200) reached and the optimization hasn't converged yet.\n",
      "  warnings.warn(\n"
     ]
    }
   ],
   "source": [
    "models = {\n",
    "    'GaussianNB': GaussianNB(),\n",
    "    'Decision Tree': DecisionTreeClassifier(),\n",
    "    'Random Forest': RandomForestClassifier(),\n",
    "    'Gradient Boosting': GradientBoostingClassifier(),\n",
    "    'Logistic Regression': LogisticRegression(),\n",
    "    'Neural Network': MLPClassifier(hidden_layer_sizes=(100,100))\n",
    "}\n",
    "scores_scaled = []\n",
    "\n",
    "for name, model in models.items():\n",
    "    model.fit(X_train, y_train)\n",
    "    predict_test = model.predict(X_test)\n",
    "    score = {\"Model\": name, \"Scaled data Accurary Score\": metrics.accuracy_score(y_test, predict_test)}\n",
    "    scores_scaled.append(score)\n",
    "\n",
    "scores_scaled = pd.DataFrame(scores_scaled)"
   ]
  },
  {
   "cell_type": "code",
   "execution_count": 19,
   "id": "a5383eaa",
   "metadata": {},
   "outputs": [],
   "source": [
    "# without scaling\n",
    "X_train = x_train\n",
    "X_test = x_test\n",
    "\n",
    "scores_unscaled = []\n",
    "\n",
    "for name, model in models.items():\n",
    "    model.fit(X_train, y_train)\n",
    "    predict_test = model.predict(X_test)\n",
    "    score = {\"Model\": name, \"Unscaled data Accurary Score\": metrics.accuracy_score(y_test, predict_test)}\n",
    "    scores_unscaled.append(score)\n",
    "\n",
    "scores_unscaled = pd.DataFrame(scores_unscaled)"
   ]
  },
  {
   "cell_type": "code",
   "execution_count": 23,
   "id": "841d5c77",
   "metadata": {},
   "outputs": [
    {
     "name": "stdout",
     "output_type": "stream",
     "text": [
      "                 Model  Scaled data Accurary Score  \\\n",
      "0           GaussianNB                    0.746411   \n",
      "1        Decision Tree                    0.765550   \n",
      "2        Random Forest                    0.794258   \n",
      "3    Gradient Boosting                    0.837321   \n",
      "4  Logistic Regression                    0.803828   \n",
      "5       Neural Network                    0.813397   \n",
      "\n",
      "   Unscaled data Accurary Score  \n",
      "0                      0.746411  \n",
      "1                      0.765550  \n",
      "2                      0.799043  \n",
      "3                      0.837321  \n",
      "4                      0.803828  \n",
      "5                      0.779904  \n"
     ]
    },
    {
     "data": {
      "image/png": "[encoded data removed]",
      "text/plain": [
       "<Figure size 800x500 with 1 Axes>"
      ]
     },
     "metadata": {},
     "output_type": "display_data"
    }
   ],
   "source": [
    "scores = pd.merge(scores_scaled, scores_unscaled, how='left')\n",
    "print(scores)\n",
    "import seaborn as sns\n",
    "import matplotlib.pyplot as plt\n",
    "\n",
    "# Melt the dataframe for seaborn\n",
    "melted = scores.melt(id_vars=\"Model\", value_vars=[\"Scaled data Accurary Score\", \"Unscaled data Accurary Score\"],\n",
    "                       var_name=\"Metric\", value_name=\"Score\")\n",
    "\n",
    "sns.set(style=\"whitegrid\")\n",
    "plt.figure(figsize=(8, 5))\n",
    "sns.barplot(data=melted, x=\"Model\", y=\"Score\", hue=\"Metric\")\n",
    "plt.title(\"Model Performance Comparison\")\n",
    "plt.xticks(rotation=30, ha='right')\n",
    "plt.ylim(0, 1)\n",
    "plt.tight_layout()\n",
    "plt.show()\n"
   ]
  },
  {
   "cell_type": "code",
   "execution_count": 26,
   "id": "2ab0a0f3",
   "metadata": {},
   "outputs": [],
   "source": [
    "# neural networks using Keras library with TensorFlow\n",
    "from keras.models import Sequential\n",
    "model = Sequential()"
   ]
  },
  {
   "cell_type": "code",
   "execution_count": 60,
   "id": "ec5c79bd",
   "metadata": {},
   "outputs": [],
   "source": [
    "from keras.layers import Dense\n",
    "model.add(Dense(5, kernel_initializer = 'uniform', activation = 'relu', input_dim = 5))\n",
    "model.add(Dense(5, kernel_initializer = 'uniform', activation = 'relu'))\n",
    "model.add(Dense(1, kernel_initializer = 'uniform', activation = 'sigmoid'))"
   ]
  },
  {
   "cell_type": "code",
   "execution_count": 61,
   "id": "33d5ccb1",
   "metadata": {},
   "outputs": [
    {
     "name": "stdout",
     "output_type": "stream",
     "text": [
      "Model: \"sequential_1\"\n",
      "_________________________________________________________________\n",
      " Layer (type)                Output Shape              Param #   \n",
      "=================================================================\n",
      " dense (Dense)               (None, 5)                 30        \n",
      "                                                                 \n",
      " dense_1 (Dense)             (None, 5)                 30        \n",
      "                                                                 \n",
      " dense_2 (Dense)             (None, 1)                 6         \n",
      "                                                                 \n",
      " dense_3 (Dense)             (None, 5)                 10        \n",
      "                                                                 \n",
      " dense_4 (Dense)             (None, 5)                 30        \n",
      "                                                                 \n",
      " dense_5 (Dense)             (None, 1)                 6         \n",
      "                                                                 \n",
      " dense_6 (Dense)             (None, 5)                 10        \n",
      "                                                                 \n",
      " dense_7 (Dense)             (None, 5)                 30        \n",
      "                                                                 \n",
      " dense_8 (Dense)             (None, 1)                 6         \n",
      "                                                                 \n",
      " dense_10 (Dense)            (None, 5)                 10        \n",
      "                                                                 \n",
      " dense_11 (Dense)            (None, 5)                 30        \n",
      "                                                                 \n",
      " dense_12 (Dense)            (None, 1)                 6         \n",
      "                                                                 \n",
      "=================================================================\n",
      "Total params: 204\n",
      "Trainable params: 204\n",
      "Non-trainable params: 0\n",
      "_________________________________________________________________\n"
     ]
    }
   ],
   "source": [
    "model.summary()"
   ]
  },
  {
   "cell_type": "code",
   "execution_count": 62,
   "id": "6c395018",
   "metadata": {},
   "outputs": [
    {
     "name": "stdout",
     "output_type": "stream",
     "text": [
      "Epoch 1/50\n",
      "27/27 [==============================] - 0s 1ms/step - loss: 0.6924 - accuracy: 0.5861\n",
      "Epoch 2/50\n",
      "27/27 [==============================] - 0s 1ms/step - loss: 0.6908 - accuracy: 0.5861\n",
      "Epoch 3/50\n",
      "27/27 [==============================] - 0s 917us/step - loss: 0.6893 - accuracy: 0.5861\n",
      "Epoch 4/50\n",
      "27/27 [==============================] - 0s 1ms/step - loss: 0.6876 - accuracy: 0.5861\n",
      "Epoch 5/50\n",
      "27/27 [==============================] - 0s 936us/step - loss: 0.6863 - accuracy: 0.5861\n",
      "Epoch 6/50\n",
      "27/27 [==============================] - 0s 1ms/step - loss: 0.6850 - accuracy: 0.5861\n",
      "Epoch 7/50\n",
      "27/27 [==============================] - 0s 1ms/step - loss: 0.6838 - accuracy: 0.5861\n",
      "Epoch 8/50\n",
      "27/27 [==============================] - 0s 1ms/step - loss: 0.6825 - accuracy: 0.5861\n",
      "Epoch 9/50\n",
      "27/27 [==============================] - 0s 1ms/step - loss: 0.6815 - accuracy: 0.5861\n",
      "Epoch 10/50\n",
      "27/27 [==============================] - 0s 984us/step - loss: 0.6808 - accuracy: 0.5861\n",
      "Epoch 11/50\n",
      "27/27 [==============================] - 0s 1ms/step - loss: 0.6801 - accuracy: 0.5861\n",
      "Epoch 12/50\n",
      "27/27 [==============================] - 0s 1ms/step - loss: 0.6795 - accuracy: 0.5861\n",
      "Epoch 13/50\n",
      "27/27 [==============================] - 0s 1ms/step - loss: 0.6791 - accuracy: 0.5861\n",
      "Epoch 14/50\n",
      "27/27 [==============================] - 0s 997us/step - loss: 0.6788 - accuracy: 0.5861\n",
      "Epoch 15/50\n",
      "27/27 [==============================] - 0s 1ms/step - loss: 0.6787 - accuracy: 0.5861\n",
      "Epoch 16/50\n",
      "27/27 [==============================] - 0s 1ms/step - loss: 0.6788 - accuracy: 0.5861\n",
      "Epoch 17/50\n",
      "27/27 [==============================] - 0s 1ms/step - loss: 0.6785 - accuracy: 0.5861\n",
      "Epoch 18/50\n",
      "27/27 [==============================] - 0s 842us/step - loss: 0.6783 - accuracy: 0.5861\n",
      "Epoch 19/50\n",
      "27/27 [==============================] - 0s 1ms/step - loss: 0.6783 - accuracy: 0.5861\n",
      "Epoch 20/50\n",
      "27/27 [==============================] - 0s 1ms/step - loss: 0.6783 - accuracy: 0.5861\n",
      "Epoch 21/50\n",
      "27/27 [==============================] - 0s 1ms/step - loss: 0.6783 - accuracy: 0.5861\n",
      "Epoch 22/50\n",
      "27/27 [==============================] - 0s 1ms/step - loss: 0.6783 - accuracy: 0.5861\n",
      "Epoch 23/50\n",
      "27/27 [==============================] - 0s 1ms/step - loss: 0.6783 - accuracy: 0.5861\n",
      "Epoch 24/50\n",
      "27/27 [==============================] - 0s 1ms/step - loss: 0.6783 - accuracy: 0.5861\n",
      "Epoch 25/50\n",
      "27/27 [==============================] - 0s 2ms/step - loss: 0.6783 - accuracy: 0.5861\n",
      "Epoch 26/50\n",
      "27/27 [==============================] - 0s 1ms/step - loss: 0.6783 - accuracy: 0.5861\n",
      "Epoch 27/50\n",
      "27/27 [==============================] - 0s 1ms/step - loss: 0.6783 - accuracy: 0.5861\n",
      "Epoch 28/50\n",
      "27/27 [==============================] - 0s 1ms/step - loss: 0.6783 - accuracy: 0.5861\n",
      "Epoch 29/50\n",
      "27/27 [==============================] - 0s 1ms/step - loss: 0.6783 - accuracy: 0.5861\n",
      "Epoch 30/50\n",
      "27/27 [==============================] - 0s 2ms/step - loss: 0.6783 - accuracy: 0.5861\n",
      "Epoch 31/50\n",
      "27/27 [==============================] - 0s 2ms/step - loss: 0.6783 - accuracy: 0.5861\n",
      "Epoch 32/50\n",
      "27/27 [==============================] - 0s 1ms/step - loss: 0.6783 - accuracy: 0.5861\n",
      "Epoch 33/50\n",
      "27/27 [==============================] - 0s 1ms/step - loss: 0.6783 - accuracy: 0.5861\n",
      "Epoch 34/50\n",
      "27/27 [==============================] - 0s 1ms/step - loss: 0.6783 - accuracy: 0.5861\n",
      "Epoch 35/50\n",
      "27/27 [==============================] - 0s 2ms/step - loss: 0.6783 - accuracy: 0.5861\n",
      "Epoch 36/50\n",
      "27/27 [==============================] - 0s 2ms/step - loss: 0.6783 - accuracy: 0.5861\n",
      "Epoch 37/50\n",
      "27/27 [==============================] - 0s 1ms/step - loss: 0.6783 - accuracy: 0.5861\n",
      "Epoch 38/50\n",
      "27/27 [==============================] - 0s 1ms/step - loss: 0.6783 - accuracy: 0.5861\n",
      "Epoch 39/50\n",
      "27/27 [==============================] - 0s 1ms/step - loss: 0.6783 - accuracy: 0.5861\n",
      "Epoch 40/50\n",
      "27/27 [==============================] - 0s 2ms/step - loss: 0.6783 - accuracy: 0.5861\n",
      "Epoch 41/50\n",
      "27/27 [==============================] - 0s 1ms/step - loss: 0.6783 - accuracy: 0.5861\n",
      "Epoch 42/50\n",
      "27/27 [==============================] - 0s 1ms/step - loss: 0.6783 - accuracy: 0.5861\n",
      "Epoch 43/50\n",
      "27/27 [==============================] - 0s 1ms/step - loss: 0.6782 - accuracy: 0.5861\n",
      "Epoch 44/50\n",
      "27/27 [==============================] - 0s 1ms/step - loss: 0.6783 - accuracy: 0.5861\n",
      "Epoch 45/50\n",
      "27/27 [==============================] - 0s 1ms/step - loss: 0.6783 - accuracy: 0.5861\n",
      "Epoch 46/50\n",
      "27/27 [==============================] - 0s 1ms/step - loss: 0.6782 - accuracy: 0.5861\n",
      "Epoch 47/50\n",
      "27/27 [==============================] - 0s 1ms/step - loss: 0.6783 - accuracy: 0.5861\n",
      "Epoch 48/50\n",
      "27/27 [==============================] - 0s 1ms/step - loss: 0.6784 - accuracy: 0.5861\n",
      "Epoch 49/50\n",
      "27/27 [==============================] - 0s 1ms/step - loss: 0.6785 - accuracy: 0.5861\n",
      "Epoch 50/50\n",
      "27/27 [==============================] - 0s 2ms/step - loss: 0.6782 - accuracy: 0.5861\n"
     ]
    },
    {
     "data": {
      "text/plain": [
       "<keras.callbacks.History at 0x1a46360a800>"
      ]
     },
     "execution_count": 62,
     "metadata": {},
     "output_type": "execute_result"
    }
   ],
   "source": [
    "model.compile(optimizer=\"adam\", loss=\"binary_crossentropy\", metrics=['accuracy'])\n",
    "model.fit(X_train, y_train, batch_size=32, epochs=50)"
   ]
  },
  {
   "cell_type": "code",
   "execution_count": 63,
   "id": "2912b7a9",
   "metadata": {},
   "outputs": [
    {
     "name": "stdout",
     "output_type": "stream",
     "text": [
      "7/7 [==============================] - 0s 888us/step\n",
      "0.6124401913875598\n"
     ]
    }
   ],
   "source": [
    "y_pred = np.rint(model.predict(X_test).flatten())\n",
    "print(metrics.accuracy_score(y_test, y_pred))"
   ]
  },
  {
   "cell_type": "code",
   "execution_count": 64,
   "id": "f7d0dfda",
   "metadata": {},
   "outputs": [
    {
     "name": "stdout",
     "output_type": "stream",
     "text": [
      "1/1 [==============================] - 0s 96ms/step\n",
      "7/7 [==============================] - 0s 833us/step\n"
     ]
    },
    {
     "data": {
      "text/plain": [
       "array([[0.41182438],\n",
       "       [0.41182438],\n",
       "       [0.41182438],\n",
       "       [0.41182438],\n",
       "       [0.41182438],\n",
       "       [0.41182438],\n",
       "       [0.41182438],\n",
       "       [0.41182438],\n",
       "       [0.41182438],\n",
       "       [0.41182438],\n",
       "       [0.41182438],\n",
       "       [0.41182438],\n",
       "       [0.41182438],\n",
       "       [0.41182438],\n",
       "       [0.41182438],\n",
       "       [0.41182438],\n",
       "       [0.41182438],\n",
       "       [0.41182438],\n",
       "       [0.41182438],\n",
       "       [0.41182438],\n",
       "       [0.41182438],\n",
       "       [0.41182438],\n",
       "       [0.41182438],\n",
       "       [0.41182438],\n",
       "       [0.41182438],\n",
       "       [0.41182438],\n",
       "       [0.41182438],\n",
       "       [0.41182438],\n",
       "       [0.41182438],\n",
       "       [0.41182438],\n",
       "       [0.41182438],\n",
       "       [0.41182438],\n",
       "       [0.41182438],\n",
       "       [0.41182438],\n",
       "       [0.41182438],\n",
       "       [0.41182438],\n",
       "       [0.41182438],\n",
       "       [0.41182438],\n",
       "       [0.41182438],\n",
       "       [0.41182438],\n",
       "       [0.41182438],\n",
       "       [0.41182438],\n",
       "       [0.41182438],\n",
       "       [0.41182438],\n",
       "       [0.41182438],\n",
       "       [0.41182438],\n",
       "       [0.41182438],\n",
       "       [0.41182438],\n",
       "       [0.41182438],\n",
       "       [0.41182438],\n",
       "       [0.41182438],\n",
       "       [0.41182438],\n",
       "       [0.41182438],\n",
       "       [0.41182438],\n",
       "       [0.41182438],\n",
       "       [0.41182438],\n",
       "       [0.41182438],\n",
       "       [0.41182438],\n",
       "       [0.41182438],\n",
       "       [0.41182438],\n",
       "       [0.41182438],\n",
       "       [0.41182438],\n",
       "       [0.41182438],\n",
       "       [0.41182438],\n",
       "       [0.41182438],\n",
       "       [0.41182438],\n",
       "       [0.41182438],\n",
       "       [0.41182438],\n",
       "       [0.41182438],\n",
       "       [0.41182438],\n",
       "       [0.41182438],\n",
       "       [0.41182438],\n",
       "       [0.41182438],\n",
       "       [0.41182438],\n",
       "       [0.41182438],\n",
       "       [0.41182438],\n",
       "       [0.41182438],\n",
       "       [0.41182438],\n",
       "       [0.41182438],\n",
       "       [0.41182438],\n",
       "       [0.41182438],\n",
       "       [0.41182438],\n",
       "       [0.41182438],\n",
       "       [0.41182438],\n",
       "       [0.41182438],\n",
       "       [0.41182438],\n",
       "       [0.41182438],\n",
       "       [0.41182438],\n",
       "       [0.41182438],\n",
       "       [0.41182438],\n",
       "       [0.41182438],\n",
       "       [0.41182438],\n",
       "       [0.41182438],\n",
       "       [0.41182438],\n",
       "       [0.41182438],\n",
       "       [0.41182438],\n",
       "       [0.41182438],\n",
       "       [0.41182438],\n",
       "       [0.41182438],\n",
       "       [0.41182438],\n",
       "       [0.41182438],\n",
       "       [0.41182438],\n",
       "       [0.41182438],\n",
       "       [0.41182438],\n",
       "       [0.41182438],\n",
       "       [0.41182438],\n",
       "       [0.41182438],\n",
       "       [0.41182438],\n",
       "       [0.41182438],\n",
       "       [0.41182438],\n",
       "       [0.41182438],\n",
       "       [0.41182438],\n",
       "       [0.41182438],\n",
       "       [0.41182438],\n",
       "       [0.41182438],\n",
       "       [0.41182438],\n",
       "       [0.41182438],\n",
       "       [0.41182438],\n",
       "       [0.41182438],\n",
       "       [0.41182438],\n",
       "       [0.41182438],\n",
       "       [0.41182438],\n",
       "       [0.41182438],\n",
       "       [0.41182438],\n",
       "       [0.41182438],\n",
       "       [0.41182438],\n",
       "       [0.41182438],\n",
       "       [0.41182438],\n",
       "       [0.41182438],\n",
       "       [0.41182438],\n",
       "       [0.41182438],\n",
       "       [0.41182438],\n",
       "       [0.41182438],\n",
       "       [0.41182438],\n",
       "       [0.41182438],\n",
       "       [0.41182438],\n",
       "       [0.41182438],\n",
       "       [0.41182438],\n",
       "       [0.41182438],\n",
       "       [0.41182438],\n",
       "       [0.41182438],\n",
       "       [0.41182438],\n",
       "       [0.41182438],\n",
       "       [0.41182438],\n",
       "       [0.41182438],\n",
       "       [0.41182438],\n",
       "       [0.41182438],\n",
       "       [0.41182438],\n",
       "       [0.41182438],\n",
       "       [0.41182438],\n",
       "       [0.41182438],\n",
       "       [0.41182438],\n",
       "       [0.41182438],\n",
       "       [0.41182438],\n",
       "       [0.41182438],\n",
       "       [0.41182438],\n",
       "       [0.41182438],\n",
       "       [0.41182438],\n",
       "       [0.41182438],\n",
       "       [0.41182438],\n",
       "       [0.41182438],\n",
       "       [0.41182438],\n",
       "       [0.41182438],\n",
       "       [0.41182438],\n",
       "       [0.41182438],\n",
       "       [0.41182438],\n",
       "       [0.41182438],\n",
       "       [0.41182438],\n",
       "       [0.41182438],\n",
       "       [0.41182438],\n",
       "       [0.41182438],\n",
       "       [0.41182438],\n",
       "       [0.41182438],\n",
       "       [0.41182438],\n",
       "       [0.41182438],\n",
       "       [0.41182438],\n",
       "       [0.41182438],\n",
       "       [0.41182438],\n",
       "       [0.41182438],\n",
       "       [0.41182438],\n",
       "       [0.41182438],\n",
       "       [0.41182438],\n",
       "       [0.41182438],\n",
       "       [0.41182438],\n",
       "       [0.41182438],\n",
       "       [0.41182438],\n",
       "       [0.41182438],\n",
       "       [0.41182438],\n",
       "       [0.41182438],\n",
       "       [0.41182438],\n",
       "       [0.41182438],\n",
       "       [0.41182438],\n",
       "       [0.41182438],\n",
       "       [0.41182438],\n",
       "       [0.41182438],\n",
       "       [0.41182438],\n",
       "       [0.41182438],\n",
       "       [0.41182438],\n",
       "       [0.41182438],\n",
       "       [0.41182438],\n",
       "       [0.41182438],\n",
       "       [0.41182438],\n",
       "       [0.41182438],\n",
       "       [0.41182438],\n",
       "       [0.41182438],\n",
       "       [0.41182438],\n",
       "       [0.41182438],\n",
       "       [0.41182438],\n",
       "       [0.41182438]], dtype=float32)"
      ]
     },
     "execution_count": 64,
     "metadata": {},
     "output_type": "execute_result"
    }
   ],
   "source": [
    "# predict specific scenario with model\n",
    "model.predict(np.array([[0, 0, 60, 0, 50]]))\n",
    "model.predict(X_test)"
   ]
  },
  {
   "cell_type": "code",
   "execution_count": null,
   "id": "edefc105",
   "metadata": {},
   "outputs": [
    {
     "name": "stdout",
     "output_type": "stream",
     "text": [
      "      Actual  Predicted\n",
      "281        1          1\n",
      "1267       0          1\n",
      "849        0          0\n",
      "1066       0          0\n",
      "109        1          0\n"
     ]
    }
   ],
   "source": [
    "# random test looking at predictions\n",
    "print(pd.DataFrame({\n",
    "    'Actual': y_test,\n",
    "    'Predicted': predict_test\n",
    "}).head())"
   ]
  }
 ],
 "metadata": {
  "kernelspec": {
   "display_name": ".venv",
   "language": "python",
   "name": "python3"
  },
  "language_info": {
   "codemirror_mode": {
    "name": "ipython",
    "version": 3
   },
   "file_extension": ".py",
   "mimetype": "text/x-python",
   "name": "python",
   "nbconvert_exporter": "python",
   "pygments_lexer": "ipython3",
   "version": "3.10.11"
  }
 },
 "nbformat": 4,
 "nbformat_minor": 5
}
